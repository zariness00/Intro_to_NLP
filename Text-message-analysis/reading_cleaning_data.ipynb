{
 "cells": [
  {
   "cell_type": "code",
   "execution_count": 1,
   "metadata": {},
   "outputs": [],
   "source": [
    "import pandas as pd"
   ]
  },
  {
   "cell_type": "code",
   "execution_count": 20,
   "metadata": {},
   "outputs": [
    {
     "data": {
      "text/html": [
       "<div>\n",
       "<style scoped>\n",
       "    .dataframe tbody tr th:only-of-type {\n",
       "        vertical-align: middle;\n",
       "    }\n",
       "\n",
       "    .dataframe tbody tr th {\n",
       "        vertical-align: top;\n",
       "    }\n",
       "\n",
       "    .dataframe thead th {\n",
       "        text-align: right;\n",
       "    }\n",
       "</style>\n",
       "<table border=\"1\" class=\"dataframe\">\n",
       "  <thead>\n",
       "    <tr style=\"text-align: right;\">\n",
       "      <th></th>\n",
       "      <th>Unnamed: 0</th>\n",
       "      <th>id</th>\n",
       "      <th>Message</th>\n",
       "      <th>length</th>\n",
       "      <th>country</th>\n",
       "      <th>Date</th>\n",
       "    </tr>\n",
       "  </thead>\n",
       "  <tbody>\n",
       "    <tr>\n",
       "      <th>0</th>\n",
       "      <td>0</td>\n",
       "      <td>10120</td>\n",
       "      <td>Bugis oso near wat...</td>\n",
       "      <td>21</td>\n",
       "      <td>SG</td>\n",
       "      <td>2003/4</td>\n",
       "    </tr>\n",
       "    <tr>\n",
       "      <th>1</th>\n",
       "      <td>1</td>\n",
       "      <td>10121</td>\n",
       "      <td>Go until jurong point, crazy.. Available only ...</td>\n",
       "      <td>111</td>\n",
       "      <td>SG</td>\n",
       "      <td>2003/4</td>\n",
       "    </tr>\n",
       "    <tr>\n",
       "      <th>2</th>\n",
       "      <td>2</td>\n",
       "      <td>10122</td>\n",
       "      <td>I dunno until when... Lets go learn pilates...</td>\n",
       "      <td>46</td>\n",
       "      <td>SG</td>\n",
       "      <td>2003/4</td>\n",
       "    </tr>\n",
       "    <tr>\n",
       "      <th>3</th>\n",
       "      <td>3</td>\n",
       "      <td>10123</td>\n",
       "      <td>Den only weekdays got special price... Haiz......</td>\n",
       "      <td>140</td>\n",
       "      <td>SG</td>\n",
       "      <td>2003/4</td>\n",
       "    </tr>\n",
       "    <tr>\n",
       "      <th>4</th>\n",
       "      <td>4</td>\n",
       "      <td>10124</td>\n",
       "      <td>Meet after lunch la...</td>\n",
       "      <td>22</td>\n",
       "      <td>SG</td>\n",
       "      <td>2003/4</td>\n",
       "    </tr>\n",
       "  </tbody>\n",
       "</table>\n",
       "</div>"
      ],
      "text/plain": [
       "   Unnamed: 0     id                                            Message  \\\n",
       "0           0  10120                              Bugis oso near wat...   \n",
       "1           1  10121  Go until jurong point, crazy.. Available only ...   \n",
       "2           2  10122     I dunno until when... Lets go learn pilates...   \n",
       "3           3  10123  Den only weekdays got special price... Haiz......   \n",
       "4           4  10124                             Meet after lunch la...   \n",
       "\n",
       "  length country    Date  \n",
       "0     21      SG  2003/4  \n",
       "1    111      SG  2003/4  \n",
       "2     46      SG  2003/4  \n",
       "3    140      SG  2003/4  \n",
       "4     22      SG  2003/4  "
      ]
     },
     "execution_count": 20,
     "metadata": {},
     "output_type": "execute_result"
    }
   ],
   "source": [
    "df = pd.read_csv('clean_nus_sms.csv')\n",
    "df.head()"
   ]
  },
  {
   "cell_type": "code",
   "execution_count": 21,
   "metadata": {},
   "outputs": [
    {
     "data": {
      "text/plain": [
       "48598"
      ]
     },
     "execution_count": 21,
     "metadata": {},
     "output_type": "execute_result"
    }
   ],
   "source": [
    "len(df)"
   ]
  },
  {
   "cell_type": "code",
   "execution_count": 22,
   "metadata": {},
   "outputs": [
    {
     "data": {
      "text/plain": [
       "country\n",
       "Singapore              22013\n",
       "SG                      9806\n",
       "India                   6901\n",
       "United States           3749\n",
       "USA                     1932\n",
       "Sri Lanka               1017\n",
       "Malaysia                 766\n",
       "Pakistan                 751\n",
       "unknown                  602\n",
       "Canada                   198\n",
       "Bangladesh               126\n",
       "China                    107\n",
       "india                    105\n",
       "INDIA                     79\n",
       "Philippines               67\n",
       "Indonesia                 48\n",
       "Nepal                     39\n",
       "srilanka                  30\n",
       "United Kingdom            30\n",
       "Hungary                   28\n",
       "Serbia                    22\n",
       "Kenya                     20\n",
       "Ghana                     18\n",
       "UK                        10\n",
       "Italia                    10\n",
       "Trinidad and Tobago       10\n",
       "Turkey                    10\n",
       "Nigeria                   10\n",
       "Macedonia                 10\n",
       "New Zealand               10\n",
       "Slovenia                  10\n",
       "Lebanon                   10\n",
       "Romania                    9\n",
       "Morocco                    9\n",
       "Australia                  9\n",
       "jamaica                    8\n",
       "BARBADOS                   8\n",
       "France                     5\n",
       "Spain                      5\n",
       "MY                         1\n",
       "Name: count, dtype: int64"
      ]
     },
     "execution_count": 22,
     "metadata": {},
     "output_type": "execute_result"
    }
   ],
   "source": [
    "country_counts = df['country'].value_counts()\n",
    "country_counts"
   ]
  },
  {
   "cell_type": "markdown",
   "metadata": {
    "vscode": {
     "languageId": "plaintext"
    }
   },
   "source": [
    "The \"country\" column has duplicates meaning one country has multiple variations(for example, Singapore vs SG, India vs INDIA vs india, United States vs USA). \n",
    "To fix it manually, I would use the method .replace() on my dataframe\n",
    "Now, while commenting the code, I would use the dictionary instead of writing every line:\n",
    "df[\"country\"].replace({\n",
    "    \"SG\": \"Singapore\",\n",
    "    \"USA\" : \"United States\"\n",
    "    ...and so on...\n",
    "\n",
    "},\n",
    "inplace= True)\n",
    "\n"
   ]
  },
  {
   "cell_type": "code",
   "execution_count": 23,
   "metadata": {},
   "outputs": [
    {
     "name": "stderr",
     "output_type": "stream",
     "text": [
      "C:\\Users\\exol1\\AppData\\Local\\Temp\\ipykernel_37476\\3833687472.py:1: FutureWarning: A value is trying to be set on a copy of a DataFrame or Series through chained assignment using an inplace method.\n",
      "The behavior will change in pandas 3.0. This inplace method will never work because the intermediate object on which we are setting values always behaves as a copy.\n",
      "\n",
      "For example, when doing 'df[col].method(value, inplace=True)', try using 'df.method({col: value}, inplace=True)' or df[col] = df[col].method(value) instead, to perform the operation inplace on the original object.\n",
      "\n",
      "\n",
      "  df[\"country\"].replace(\"SG\", \"Singapore\", inplace=True)\n",
      "C:\\Users\\exol1\\AppData\\Local\\Temp\\ipykernel_37476\\3833687472.py:2: FutureWarning: A value is trying to be set on a copy of a DataFrame or Series through chained assignment using an inplace method.\n",
      "The behavior will change in pandas 3.0. This inplace method will never work because the intermediate object on which we are setting values always behaves as a copy.\n",
      "\n",
      "For example, when doing 'df[col].method(value, inplace=True)', try using 'df.method({col: value}, inplace=True)' or df[col] = df[col].method(value) instead, to perform the operation inplace on the original object.\n",
      "\n",
      "\n",
      "  df[\"country\"].replace(\"USA\", \"United States\", inplace=True)\n",
      "C:\\Users\\exol1\\AppData\\Local\\Temp\\ipykernel_37476\\3833687472.py:3: FutureWarning: A value is trying to be set on a copy of a DataFrame or Series through chained assignment using an inplace method.\n",
      "The behavior will change in pandas 3.0. This inplace method will never work because the intermediate object on which we are setting values always behaves as a copy.\n",
      "\n",
      "For example, when doing 'df[col].method(value, inplace=True)', try using 'df.method({col: value}, inplace=True)' or df[col] = df[col].method(value) instead, to perform the operation inplace on the original object.\n",
      "\n",
      "\n",
      "  df[\"country\"].replace(\"india\", \"India\", inplace=True)\n",
      "C:\\Users\\exol1\\AppData\\Local\\Temp\\ipykernel_37476\\3833687472.py:4: FutureWarning: A value is trying to be set on a copy of a DataFrame or Series through chained assignment using an inplace method.\n",
      "The behavior will change in pandas 3.0. This inplace method will never work because the intermediate object on which we are setting values always behaves as a copy.\n",
      "\n",
      "For example, when doing 'df[col].method(value, inplace=True)', try using 'df.method({col: value}, inplace=True)' or df[col] = df[col].method(value) instead, to perform the operation inplace on the original object.\n",
      "\n",
      "\n",
      "  df[\"country\"].replace(\"INDIA\", \"India\", inplace=True)\n",
      "C:\\Users\\exol1\\AppData\\Local\\Temp\\ipykernel_37476\\3833687472.py:5: FutureWarning: A value is trying to be set on a copy of a DataFrame or Series through chained assignment using an inplace method.\n",
      "The behavior will change in pandas 3.0. This inplace method will never work because the intermediate object on which we are setting values always behaves as a copy.\n",
      "\n",
      "For example, when doing 'df[col].method(value, inplace=True)', try using 'df.method({col: value}, inplace=True)' or df[col] = df[col].method(value) instead, to perform the operation inplace on the original object.\n",
      "\n",
      "\n",
      "  df[\"country\"].replace(\"UK\", \"United Kingdom\", inplace=True)\n",
      "C:\\Users\\exol1\\AppData\\Local\\Temp\\ipykernel_37476\\3833687472.py:6: FutureWarning: A value is trying to be set on a copy of a DataFrame or Series through chained assignment using an inplace method.\n",
      "The behavior will change in pandas 3.0. This inplace method will never work because the intermediate object on which we are setting values always behaves as a copy.\n",
      "\n",
      "For example, when doing 'df[col].method(value, inplace=True)', try using 'df.method({col: value}, inplace=True)' or df[col] = df[col].method(value) instead, to perform the operation inplace on the original object.\n",
      "\n",
      "\n",
      "  df[\"country\"].replace(\"MY\", \"Malaysia\", inplace=True)\n",
      "C:\\Users\\exol1\\AppData\\Local\\Temp\\ipykernel_37476\\3833687472.py:7: FutureWarning: A value is trying to be set on a copy of a DataFrame or Series through chained assignment using an inplace method.\n",
      "The behavior will change in pandas 3.0. This inplace method will never work because the intermediate object on which we are setting values always behaves as a copy.\n",
      "\n",
      "For example, when doing 'df[col].method(value, inplace=True)', try using 'df.method({col: value}, inplace=True)' or df[col] = df[col].method(value) instead, to perform the operation inplace on the original object.\n",
      "\n",
      "\n",
      "  df[\"country\"].replace(\"jamaica\", \"Jamaica\", inplace=True)\n",
      "C:\\Users\\exol1\\AppData\\Local\\Temp\\ipykernel_37476\\3833687472.py:8: FutureWarning: A value is trying to be set on a copy of a DataFrame or Series through chained assignment using an inplace method.\n",
      "The behavior will change in pandas 3.0. This inplace method will never work because the intermediate object on which we are setting values always behaves as a copy.\n",
      "\n",
      "For example, when doing 'df[col].method(value, inplace=True)', try using 'df.method({col: value}, inplace=True)' or df[col] = df[col].method(value) instead, to perform the operation inplace on the original object.\n",
      "\n",
      "\n",
      "  df[\"country\"].replace(\"BARBADOS\", \"Barbados\", inplace=True)\n",
      "C:\\Users\\exol1\\AppData\\Local\\Temp\\ipykernel_37476\\3833687472.py:9: FutureWarning: A value is trying to be set on a copy of a DataFrame or Series through chained assignment using an inplace method.\n",
      "The behavior will change in pandas 3.0. This inplace method will never work because the intermediate object on which we are setting values always behaves as a copy.\n",
      "\n",
      "For example, when doing 'df[col].method(value, inplace=True)', try using 'df.method({col: value}, inplace=True)' or df[col] = df[col].method(value) instead, to perform the operation inplace on the original object.\n",
      "\n",
      "\n",
      "  df[\"country\"].replace(\"srilanka\", \"Sri Lanka\", inplace=True)\n",
      "C:\\Users\\exol1\\AppData\\Local\\Temp\\ipykernel_37476\\3833687472.py:10: FutureWarning: A value is trying to be set on a copy of a DataFrame or Series through chained assignment using an inplace method.\n",
      "The behavior will change in pandas 3.0. This inplace method will never work because the intermediate object on which we are setting values always behaves as a copy.\n",
      "\n",
      "For example, when doing 'df[col].method(value, inplace=True)', try using 'df.method({col: value}, inplace=True)' or df[col] = df[col].method(value) instead, to perform the operation inplace on the original object.\n",
      "\n",
      "\n",
      "  df[\"country\"].replace(\"Italia\", \"Italy\", inplace=True)\n"
     ]
    }
   ],
   "source": [
    "df[\"country\"].replace(\"SG\", \"Singapore\", inplace=True)\n",
    "df[\"country\"].replace(\"USA\", \"United States\", inplace=True)\n",
    "df[\"country\"].replace(\"india\", \"India\", inplace=True)\n",
    "df[\"country\"].replace(\"INDIA\", \"India\", inplace=True)\n",
    "df[\"country\"].replace(\"UK\", \"United Kingdom\", inplace=True)\n",
    "df[\"country\"].replace(\"MY\", \"Malaysia\", inplace=True)\n",
    "df[\"country\"].replace(\"jamaica\", \"Jamaica\", inplace=True)\n",
    "df[\"country\"].replace(\"BARBADOS\", \"Barbados\", inplace=True)\n",
    "df[\"country\"].replace(\"srilanka\", \"Sri Lanka\", inplace=True)\n",
    "df[\"country\"].replace(\"Italia\", \"Italy\", inplace=True)"
   ]
  },
  {
   "cell_type": "code",
   "execution_count": 24,
   "metadata": {},
   "outputs": [
    {
     "data": {
      "text/plain": [
       "country\n",
       "Singapore              31819\n",
       "India                   7085\n",
       "United States           5681\n",
       "Sri Lanka               1047\n",
       "Malaysia                 767\n",
       "Pakistan                 751\n",
       "unknown                  602\n",
       "Canada                   198\n",
       "Bangladesh               126\n",
       "China                    107\n",
       "Philippines               67\n",
       "Indonesia                 48\n",
       "United Kingdom            40\n",
       "Nepal                     39\n",
       "Hungary                   28\n",
       "Serbia                    22\n",
       "Kenya                     20\n",
       "Ghana                     18\n",
       "Lebanon                   10\n",
       "Trinidad and Tobago       10\n",
       "Macedonia                 10\n",
       "Turkey                    10\n",
       "Nigeria                   10\n",
       "Slovenia                  10\n",
       "New Zealand               10\n",
       "Italy                     10\n",
       "Morocco                    9\n",
       "Romania                    9\n",
       "Australia                  9\n",
       "Jamaica                    8\n",
       "Barbados                   8\n",
       "France                     5\n",
       "Spain                      5\n",
       "Name: count, dtype: int64"
      ]
     },
     "execution_count": 24,
     "metadata": {},
     "output_type": "execute_result"
    }
   ],
   "source": [
    "country_counts = df['country'].value_counts()\n",
    "country_counts"
   ]
  },
  {
   "cell_type": "markdown",
   "metadata": {},
   "source": [
    "There is a country-category \"unknown\". I decided to drop unknown countries as I believe for now they would not bring aby benefits."
   ]
  },
  {
   "cell_type": "code",
   "execution_count": 25,
   "metadata": {},
   "outputs": [
    {
     "data": {
      "text/plain": [
       "47996"
      ]
     },
     "execution_count": 25,
     "metadata": {},
     "output_type": "execute_result"
    }
   ],
   "source": [
    "mask = df[\"country\"] == \"unknown\"\n",
    "df = df[~mask]\n",
    "len(df)"
   ]
  },
  {
   "cell_type": "code",
   "execution_count": 26,
   "metadata": {},
   "outputs": [
    {
     "name": "stdout",
     "output_type": "stream",
     "text": [
      "<class 'pandas.core.frame.DataFrame'>\n",
      "Index: 47996 entries, 0 to 48597\n",
      "Data columns (total 6 columns):\n",
      " #   Column      Non-Null Count  Dtype \n",
      "---  ------      --------------  ----- \n",
      " 0   Unnamed: 0  47996 non-null  int64 \n",
      " 1   id          47996 non-null  int64 \n",
      " 2   Message     47993 non-null  object\n",
      " 3   length      47996 non-null  object\n",
      " 4   country     47996 non-null  object\n",
      " 5   Date        47996 non-null  object\n",
      "dtypes: int64(2), object(4)\n",
      "memory usage: 2.6+ MB\n"
     ]
    }
   ],
   "source": [
    "df.info()"
   ]
  },
  {
   "cell_type": "code",
   "execution_count": 27,
   "metadata": {},
   "outputs": [
    {
     "data": {
      "text/plain": [
       "Unnamed: 0    0\n",
       "id            0\n",
       "Message       3\n",
       "length        0\n",
       "country       0\n",
       "Date          0\n",
       "dtype: int64"
      ]
     },
     "execution_count": 27,
     "metadata": {},
     "output_type": "execute_result"
    }
   ],
   "source": [
    "missing_values = df.isnull().sum()\n",
    "missing_values"
   ]
  },
  {
   "cell_type": "markdown",
   "metadata": {},
   "source": [
    "As the \"Message\" column has null values, I decided to drop them.\n",
    "As well, there is a strange and redundant column called \"Unnamed\", I decided to drop it"
   ]
  },
  {
   "cell_type": "code",
   "execution_count": 28,
   "metadata": {},
   "outputs": [],
   "source": [
    "df = df.dropna(subset=['Message'])\n",
    "\n",
    "# The first column appears to be a running index designed to match the index of a row in a Pandas DataFrame. \n",
    "# This column is redundant, so I drop it from the DataFrame:\n",
    "df.drop(['Unnamed: 0'], axis = 1, inplace = True)"
   ]
  },
  {
   "cell_type": "code",
   "execution_count": 29,
   "metadata": {},
   "outputs": [
    {
     "name": "stdout",
     "output_type": "stream",
     "text": [
      "<class 'pandas.core.frame.DataFrame'>\n",
      "Index: 47993 entries, 0 to 48597\n",
      "Data columns (total 5 columns):\n",
      " #   Column   Non-Null Count  Dtype \n",
      "---  ------   --------------  ----- \n",
      " 0   id       47993 non-null  int64 \n",
      " 1   Message  47993 non-null  object\n",
      " 2   length   47993 non-null  object\n",
      " 3   country  47993 non-null  object\n",
      " 4   Date     47993 non-null  object\n",
      "dtypes: int64(1), object(4)\n",
      "memory usage: 2.2+ MB\n"
     ]
    }
   ],
   "source": [
    "df.info()"
   ]
  },
  {
   "cell_type": "code",
   "execution_count": null,
   "metadata": {},
   "outputs": [
    {
     "data": {
      "text/plain": [
       "array(['21', '111', '46', '140', '22', '65', '51', '81', '160', '33',\n",
       "       '41', '132', '23', '26', '31', '114', '45', '63', '53', '87', '60',\n",
       "       '79', '25', '56', '47', '118', '82', '58', '155', '83', '28', '54',\n",
       "       '93', '125', '107', '159', '116', '69', '48', '36', '34', '122',\n",
       "       '142', '76', '14', '27', '97', '38', '119', '32', '133', '101',\n",
       "       '74', '123', '104', '43', '62', '59', '42', '115', '44', '86',\n",
       "       '78', '68', '102', '80', '39', '71', '90', '141', '131', '8', '70',\n",
       "       '108', '18', '37', '110', '121', '15', '61', '67', '17', '96',\n",
       "       '10', '24', '9', '19', '52', '16', '13', '3', '7', '20', '5', '75',\n",
       "       '29', '11', '30', '73', '6', '64', '49', '88', '50', '92', '12',\n",
       "       '105', '85', '77', '55', '103', '40', '4', '35', '84', '148', '98',\n",
       "       '57', '149', '72', '2', '66', '137', '147', '158', '151', '94',\n",
       "       '91', '95', '153', '89', '109', '134', '100', '156', '99', '135',\n",
       "       '136', '129', '127', '164', '266', '130', '113', '279', '138',\n",
       "       '117', '219', '157', '120', '112', '152', '124', '145', '126', '1',\n",
       "       '106', '128', '143', '139', '199', '144', '167', '154', '165',\n",
       "       '146', '168', '162', '200', '161', '189', '292', '150', '210',\n",
       "       '178', '205', '186', 'Err:511', '171', '202', '252', '183', '170',\n",
       "       '604', '304', '424', '436', '173', '247', '262', '163', '670',\n",
       "       '288', '294', '208', '884', '355', '230', '229', '296', '264',\n",
       "       '235', '176', '222', '237', '191', '363', '184', '234', '244',\n",
       "       '221', '790', '201', '289', '415', '431', '190', '290', '379',\n",
       "       '232', '369', '276', '193', '287', '240', '285', '282', '220',\n",
       "       '179', '213', '397', '414', '226', '169', '204', '283', '245',\n",
       "       '196', '215', '181', '198', '333', '272', '188', '242', '172',\n",
       "       '256', '206', '305', '255', '459', '217', '223', '589', '263',\n",
       "       '225', '216', '185', '180', '197', '260', '236', '269', '258',\n",
       "       '437', '207', '286', '251', '300', '166', '175', '306', '243',\n",
       "       '408', '382', '326', '261', '250', '268', '503', '354', '224',\n",
       "       '321', '297', '458', '281', '476', '366', '322', '312', '203',\n",
       "       '303', '332', '291', '329', '270', '177', '368', '174', '384',\n",
       "       '278', '444', '371', '392', '386', '253', '324', '274', '194',\n",
       "       '273', '295', '316', '343', '365', '588', '309', '446', '432',\n",
       "       '302', '445', '308', '429', '461', '228', '910', '293', '192',\n",
       "       '195', 'Err:509', '552', '218', '319', '313', '298', '762', '541',\n",
       "       '212', '307', '187', '311', '277', '336', '370', '362', '372',\n",
       "       '238', '339', '280', '340', '239', '341', '345', '214', '271',\n",
       "       '211', '353', '359', '299', '453', '314', '419', '400', '231',\n",
       "       '233', '249', '182', '275', '227', '267', '348', '246', '241',\n",
       "       '248', '425', '389', '301', '317', '512', 'Err:508', 'Err:510',\n",
       "       '426', '483', '331', '435', '387', '462', '209', '447', '908',\n",
       "       '409', '596', '457', '466', '718', '524', '514', '434', '351',\n",
       "       '527', '257', '427', '335', '443', '328', '487', '265', '442',\n",
       "       '376', '374', '460', '430', '383', '380', '367', '356', '399',\n",
       "       '433', '381', '492', '378', '510', '342', '346', '412', '611',\n",
       "       '352', '357', '254', '259', '334', '377', '350', '315', '537',\n",
       "       '325', '330', '310', '402', '388', '385', '454', '676', '327',\n",
       "       '390', '599', '610', '463', '441', '544', '481', '482', '475',\n",
       "       '474', '320', '488', '757', '575', '358', '500', '411', '661',\n",
       "       '410', '373', '337', '516', '364', '284', '627', '344', '323'],\n",
       "      dtype=object)"
      ]
     },
     "execution_count": 31,
     "metadata": {},
     "output_type": "execute_result"
    }
   ],
   "source": [
    "df.length.unique() #some lengths have "
   ]
  },
  {
   "cell_type": "markdown",
   "metadata": {},
   "source": [
    "Four text messages have an error message instead of a length. Conveniently, the Message text of these messages\n",
    "is the identical error message. Remove these four messages from the DataFrame:\n"
   ]
  },
  {
   "cell_type": "code",
   "execution_count": 32,
   "metadata": {},
   "outputs": [],
   "source": [
    "df = df[df.length != 'Err:511']\n",
    "df = df[df.length != 'Err:510']\n",
    "df = df[df.length != 'Err:509']\n",
    "df = df[df.length != 'Err:508']\n",
    "\n",
    "# Convert the length column from type object to type integer:\n",
    "df.length = pd.to_numeric(df.length)"
   ]
  },
  {
   "cell_type": "code",
   "execution_count": 33,
   "metadata": {},
   "outputs": [
    {
     "data": {
      "text/plain": [
       "array(['2003/4', '2010/11', '2010/12', '2011/1', '2011/2', '2011/3',\n",
       "       '2011/4', '2011/5', '2011/6', '2011/8', '2011/9', '2011/11',\n",
       "       '2011/12', '2012/2', '2012/3', '2012/4', '2012/5', '2012/6',\n",
       "       '2012/7', '2012/8', '2013/5', '2014/9', '2014/11', '2014/12',\n",
       "       '2015/2', '2015/3'], dtype=object)"
      ]
     },
     "execution_count": 33,
     "metadata": {},
     "output_type": "execute_result"
    }
   ],
   "source": [
    "df.Date.unique()"
   ]
  },
  {
   "cell_type": "code",
   "execution_count": 35,
   "metadata": {},
   "outputs": [],
   "source": [
    "df[\"year\"] = df[\"Date\"].str[0:4]\n",
    "df[\"month\"] = df[\"Date\"].str[5:]"
   ]
  },
  {
   "cell_type": "code",
   "execution_count": 36,
   "metadata": {},
   "outputs": [
    {
     "data": {
      "text/html": [
       "<div>\n",
       "<style scoped>\n",
       "    .dataframe tbody tr th:only-of-type {\n",
       "        vertical-align: middle;\n",
       "    }\n",
       "\n",
       "    .dataframe tbody tr th {\n",
       "        vertical-align: top;\n",
       "    }\n",
       "\n",
       "    .dataframe thead th {\n",
       "        text-align: right;\n",
       "    }\n",
       "</style>\n",
       "<table border=\"1\" class=\"dataframe\">\n",
       "  <thead>\n",
       "    <tr style=\"text-align: right;\">\n",
       "      <th></th>\n",
       "      <th>id</th>\n",
       "      <th>Message</th>\n",
       "      <th>length</th>\n",
       "      <th>country</th>\n",
       "      <th>Date</th>\n",
       "      <th>year</th>\n",
       "      <th>month</th>\n",
       "    </tr>\n",
       "  </thead>\n",
       "  <tbody>\n",
       "    <tr>\n",
       "      <th>0</th>\n",
       "      <td>10120</td>\n",
       "      <td>Bugis oso near wat...</td>\n",
       "      <td>21</td>\n",
       "      <td>Singapore</td>\n",
       "      <td>2003/4</td>\n",
       "      <td>2003</td>\n",
       "      <td>4</td>\n",
       "    </tr>\n",
       "    <tr>\n",
       "      <th>1</th>\n",
       "      <td>10121</td>\n",
       "      <td>Go until jurong point, crazy.. Available only ...</td>\n",
       "      <td>111</td>\n",
       "      <td>Singapore</td>\n",
       "      <td>2003/4</td>\n",
       "      <td>2003</td>\n",
       "      <td>4</td>\n",
       "    </tr>\n",
       "    <tr>\n",
       "      <th>2</th>\n",
       "      <td>10122</td>\n",
       "      <td>I dunno until when... Lets go learn pilates...</td>\n",
       "      <td>46</td>\n",
       "      <td>Singapore</td>\n",
       "      <td>2003/4</td>\n",
       "      <td>2003</td>\n",
       "      <td>4</td>\n",
       "    </tr>\n",
       "    <tr>\n",
       "      <th>3</th>\n",
       "      <td>10123</td>\n",
       "      <td>Den only weekdays got special price... Haiz......</td>\n",
       "      <td>140</td>\n",
       "      <td>Singapore</td>\n",
       "      <td>2003/4</td>\n",
       "      <td>2003</td>\n",
       "      <td>4</td>\n",
       "    </tr>\n",
       "    <tr>\n",
       "      <th>4</th>\n",
       "      <td>10124</td>\n",
       "      <td>Meet after lunch la...</td>\n",
       "      <td>22</td>\n",
       "      <td>Singapore</td>\n",
       "      <td>2003/4</td>\n",
       "      <td>2003</td>\n",
       "      <td>4</td>\n",
       "    </tr>\n",
       "  </tbody>\n",
       "</table>\n",
       "</div>"
      ],
      "text/plain": [
       "      id                                            Message  length  \\\n",
       "0  10120                              Bugis oso near wat...      21   \n",
       "1  10121  Go until jurong point, crazy.. Available only ...     111   \n",
       "2  10122     I dunno until when... Lets go learn pilates...      46   \n",
       "3  10123  Den only weekdays got special price... Haiz......     140   \n",
       "4  10124                             Meet after lunch la...      22   \n",
       "\n",
       "     country    Date  year month  \n",
       "0  Singapore  2003/4  2003     4  \n",
       "1  Singapore  2003/4  2003     4  \n",
       "2  Singapore  2003/4  2003     4  \n",
       "3  Singapore  2003/4  2003     4  \n",
       "4  Singapore  2003/4  2003     4  "
      ]
     },
     "execution_count": 36,
     "metadata": {},
     "output_type": "execute_result"
    }
   ],
   "source": [
    "df.head()"
   ]
  },
  {
   "cell_type": "code",
   "execution_count": 38,
   "metadata": {},
   "outputs": [],
   "source": [
    "df.to_csv('new_clean_nus_sms.csv', index=False)"
   ]
  }
 ],
 "metadata": {
  "kernelspec": {
   "display_name": "venv",
   "language": "python",
   "name": "python3"
  },
  "language_info": {
   "codemirror_mode": {
    "name": "ipython",
    "version": 3
   },
   "file_extension": ".py",
   "mimetype": "text/x-python",
   "name": "python",
   "nbconvert_exporter": "python",
   "pygments_lexer": "ipython3",
   "version": "3.9.7"
  }
 },
 "nbformat": 4,
 "nbformat_minor": 2
}
